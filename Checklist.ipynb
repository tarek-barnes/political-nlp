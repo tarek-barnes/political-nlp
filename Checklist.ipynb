{
 "cells": [
  {
   "cell_type": "code",
   "execution_count": null,
   "metadata": {},
   "outputs": [],
   "source": [
    "#  Hypothesis\n",
    "\n",
    "#  The syntax / rhetoric of liberal media is different from conservative media"
   ]
  },
  {
   "cell_type": "code",
   "execution_count": null,
   "metadata": {},
   "outputs": [],
   "source": [
    "#  Label publications on a scale of liberal -> conservative"
   ]
  },
  {
   "cell_type": "code",
   "execution_count": null,
   "metadata": {},
   "outputs": [],
   "source": [
    "#  Question 1: Do topic modeling on articles - do the topics seem different / are they discussing different things?\n",
    "\n",
    "#  Do topic modeling for each publication segment, compare.\n",
    "#  Should I also compare with topic modeling for entire corpus?\n",
    "\n",
    "\n",
    "\n",
    "#  should i cluster the results of the topic modeling?\n",
    "#  silhouette plot\n",
    "\n",
    "#  Can I make a bubble plot for each publication?"
   ]
  },
  {
   "cell_type": "code",
   "execution_count": null,
   "metadata": {},
   "outputs": [],
   "source": [
    "#  Question 2: Are average sentence length or average article length indicative of political opinion?\n",
    "\n",
    "#  Calculate average sentence count / article\n",
    "#  Count average words / article etc\n",
    "\n",
    "#  Clustering"
   ]
  },
  {
   "cell_type": "code",
   "execution_count": null,
   "metadata": {},
   "outputs": [],
   "source": [
    "#  Question 3: Does vocabulary / repetition in articles vary?\n",
    "\n",
    "#  > Look at repetition of words\n",
    "#    - don't want to include stop words, would I just take my fit transformed cv object thing and do count on raw article?\n",
    "#  > Look at variance of vocabulary\n",
    "#    - get a score: # unique words : # total words"
   ]
  },
  {
   "cell_type": "code",
   "execution_count": null,
   "metadata": {},
   "outputs": [],
   "source": [
    "#  Question 4: Can I see any variety in general tone?\n",
    "\n",
    "#  > start w/ sentiment analysis and subjectivity (bag of words)\n",
    "#  > can i get a count for # of synonyms or # adjectives or something? (TTR ~ taaco?)"
   ]
  },
  {
   "cell_type": "code",
   "execution_count": null,
   "metadata": {},
   "outputs": [],
   "source": [
    "#  Question 5: Are titles predictable?\n",
    "\n",
    "#  can i compose an rnn for this?\n",
    "#  this is simple document classification"
   ]
  },
  {
   "cell_type": "code",
   "execution_count": null,
   "metadata": {},
   "outputs": [],
   "source": []
  }
 ],
 "metadata": {
  "kernelspec": {
   "display_name": "Python 3",
   "language": "python",
   "name": "python3"
  },
  "language_info": {
   "codemirror_mode": {
    "name": "ipython",
    "version": 3
   },
   "file_extension": ".py",
   "mimetype": "text/x-python",
   "name": "python",
   "nbconvert_exporter": "python",
   "pygments_lexer": "ipython3",
   "version": "3.6.5"
  }
 },
 "nbformat": 4,
 "nbformat_minor": 2
}
